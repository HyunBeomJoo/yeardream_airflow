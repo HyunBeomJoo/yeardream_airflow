{
 "cells": [
  {
   "cell_type": "code",
   "execution_count": null,
   "id": "fe946dc1-6e35-49c8-9a83-442be3985cfe",
   "metadata": {},
   "outputs": [],
   "source": [
    "from jinja2 import Template\n",
    "template = Template('my name is {{name}}')\n",
    "new_template = template.render(name='"
   ]
  }
 ],
 "metadata": {
  "kernelspec": {
   "display_name": "Python 3 (ipykernel)",
   "language": "python",
   "name": "python3"
  },
  "language_info": {
   "codemirror_mode": {
    "name": "ipython",
    "version": 3
   },
   "file_extension": ".py",
   "mimetype": "text/x-python",
   "name": "python",
   "nbconvert_exporter": "python",
   "pygments_lexer": "ipython3",
   "version": "3.12.3"
  }
 },
 "nbformat": 4,
 "nbformat_minor": 5
}
